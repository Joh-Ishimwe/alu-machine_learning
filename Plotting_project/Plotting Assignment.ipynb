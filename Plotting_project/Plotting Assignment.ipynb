{
 "cells": [
  {
   "cell_type": "code",
   "execution_count": null,
   "metadata": {},
   "outputs": [],
   "source": [
    "# Importing the necessary libraries\n",
    "import pandas as pd       # For data manipulation\n",
    "import numpy as np        # For numerical operations\n",
    "import matplotlib.pyplot as plt  # For basic plotting\n",
    "import seaborn as sns     # For advanced visualization\n",
    "\n",
    "#  for makeing plots inline in notebooks\n",
    "%matplotlib inline\n"
   ]
  },
  {
   "cell_type": "code",
   "execution_count": null,
   "metadata": {},
   "outputs": [],
   "source": [
    "# Load the dataset\n",
    "df = pd.read_csv('C:/Users/jishi/OneDrive/Desktop/ML/alu-machine_learning/Plotting_project/Potting_png/fuel_econ.csv')\n",
    "\n",
    "# Display the first few rows (between 4 and 11)\n",
    "df.head(7)\n"
   ]
  }
 ],
 "metadata": {
  "language_info": {
   "name": "python"
  }
 },
 "nbformat": 4,
 "nbformat_minor": 2
}
